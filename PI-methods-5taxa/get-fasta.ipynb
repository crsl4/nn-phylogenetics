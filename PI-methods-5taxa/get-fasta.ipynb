{
 "cells": [
  {
   "cell_type": "code",
   "execution_count": 14,
   "id": "3e1d67af-fe3c-48e4-b9b0-e7eab1eddb01",
   "metadata": {},
   "outputs": [],
   "source": [
    "datafile = \"dataset/sequences12062021.in\"\n",
    "all_seq = readlines(datafile)\n",
    "for i in 1:100\n",
    "    lines = all_seq[((i-1)*5+1) : i*5]\n",
    "    fastafile = \"fasta/test$i.fasta\"\n",
    "    io = open(fastafile, \"w\")\n",
    "\n",
    "    n = length(lines)\n",
    "    l = length(lines[1])\n",
    "\n",
    "    write(io,\"$n $l \\n\")\n",
    "    for i in 1:n\n",
    "       write(io, string(\">\",i,\"\\n\"))\n",
    "       write(io, lines[i])\n",
    "       write(io, \"\\n\")\n",
    "    end\n",
    "\n",
    "    close(io)\n",
    "end"
   ]
  },
  {
   "cell_type": "code",
   "execution_count": null,
   "id": "c6b52539-e49d-425c-a29c-425f250b11b3",
   "metadata": {},
   "outputs": [],
   "source": []
  }
 ],
 "metadata": {
  "kernelspec": {
   "display_name": "Julia 1.9.2",
   "language": "julia",
   "name": "julia-1.9"
  },
  "language_info": {
   "file_extension": ".jl",
   "mimetype": "application/julia",
   "name": "julia",
   "version": "1.9.2"
  }
 },
 "nbformat": 4,
 "nbformat_minor": 5
}
